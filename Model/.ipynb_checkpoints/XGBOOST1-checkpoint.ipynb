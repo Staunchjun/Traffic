{
 "cells": [
  {
   "cell_type": "code",
   "execution_count": null,
   "metadata": {
    "collapsed": false,
    "deletable": true,
    "editable": true
   },
   "outputs": [],
   "source": [
    "import xgboost as xgb\n",
    "import pandas as pd\n",
    "from sklearn.preprocessing import StandardScaler\n",
    "import numpy as np\n",
    "import time\n",
    "import datetime"
   ]
  },
  {
   "cell_type": "code",
   "execution_count": null,
   "metadata": {
    "collapsed": true,
    "deletable": true,
    "editable": true
   },
   "outputs": [],
   "source": [
    "def abs_MAPE_error(y_pred,y_true):\n",
    "    return np.mean((np.abs(y_pred-y_true)/np.abs(y_true)) )\n",
    "def abs_MAPE_error_element(y_pred,y_true):\n",
    "    return np.abs(y_pred-y_true)/np.abs(y_true)\n",
    "def abs_error(y_pred,y_true):\n",
    "    return np.mean((np.abs(y_pred-y_true)))  \n",
    "def abs_error_element(y_pred,y_true):\n",
    "    return np.abs(y_pred-y_true)"
   ]
  },
  {
   "cell_type": "code",
   "execution_count": null,
   "metadata": {
    "collapsed": true,
    "deletable": true,
    "editable": true
   },
   "outputs": [],
   "source": [
    "X = pd.read_csv('C:/Users/Administrator/PycharmProjects/Traffic/Feature/X.csv')\n",
    "Xtest = pd.read_csv('C:/Users/Administrator/PycharmProjects/Traffic/Feature/Xtest.csv')\n",
    "Y = pd.read_csv('C:/Users/Administrator/PycharmProjects/Traffic/Feature/Y.csv')"
   ]
  },
  {
   "cell_type": "code",
   "execution_count": null,
   "metadata": {
    "collapsed": true,
    "deletable": true,
    "editable": true
   },
   "outputs": [],
   "source": [
    "cols_drop = ['TOLLGATE_ID','INTERSECTION_ID','TRN_STA','TRN_END','TST_STA','XTST_END']\n",
    "X.drop(cols_drop,axis=1,inplace=True)\n",
    "Xtest.drop(cols_drop,axis=1,inplace=True)"
   ]
  },
  {
   "cell_type": "code",
   "execution_count": null,
   "metadata": {
    "collapsed": true
   },
   "outputs": [],
   "source": [
    "## #################### # # Feature selection######################################"
   ]
  },
  {
   "cell_type": "code",
   "execution_count": null,
   "metadata": {
    "collapsed": false
   },
   "outputs": [],
   "source": [
    "X"
   ]
  },
  {
   "cell_type": "code",
   "execution_count": null,
   "metadata": {
    "collapsed": true
   },
   "outputs": [],
   "source": [
    "pd.set_option(\"display.max_columns\",100)"
   ]
  },
  {
   "cell_type": "code",
   "execution_count": null,
   "metadata": {
    "collapsed": false
   },
   "outputs": [],
   "source": [
    "cols = list(X.columns)"
   ]
  },
  {
   "cell_type": "code",
   "execution_count": null,
   "metadata": {
    "collapsed": false
   },
   "outputs": [],
   "source": [
    "TIME_COL = cols[0:6]+cols[40:]"
   ]
  },
  {
   "cell_type": "code",
   "execution_count": null,
   "metadata": {
    "collapsed": false
   },
   "outputs": [],
   "source": [
    "TIME_COL"
   ]
  },
  {
   "cell_type": "code",
   "execution_count": null,
   "metadata": {
    "collapsed": false,
    "deletable": true,
    "editable": true
   },
   "outputs": [],
   "source": [
    "for a in X[TIME_COL]:\n",
    "    scaler = StandardScaler()\n",
    "    X[a] = scaler.fit_transform(X[a])\n",
    "for a in Xtest[TIME_COL]:\n",
    "    scaler = StandardScaler()\n",
    "    Xtest[a] = scaler.fit_transform(Xtest[a])"
   ]
  },
  {
   "cell_type": "code",
   "execution_count": 75,
   "metadata": {
    "collapsed": true
   },
   "outputs": [],
   "source": [
    "## #################### XGBOOST CV######################################"
   ]
  },
  {
   "cell_type": "code",
   "execution_count": null,
   "metadata": {
    "collapsed": true
   },
   "outputs": [],
   "source": [
    "import xgboost as xgb\n",
    "depth = 5\n",
    "eta = 0.03\n",
    "mcw = 2*20\n",
    "params = {\"objective\": \"reg:linear\",\n",
    "          \"booster\": \"gbtree\",\n",
    "          \"eta\": eta,\n",
    "          \"max_depth\": depth,\n",
    "          \"min_child_weight\": mcw,\n",
    "#               \"subsample\": 0.9,\n",
    "#               \"colsample_bytree\": 0.7,\n",
    "          \"silent\": 1\n",
    "          }\n",
    "for ind in range(6):\n",
    "    dtrain = xgb.DMatrix(X.values[Good_ind],Y.values[Good_ind,ind])\n",
    "#     dvtrain = xgb.DMatrix(Xtest.values,y_test_m.iloc[:,ind])\n",
    "#     watchlist = [(dtrain, 'train'),(dvtrain,'val')]\n",
    "#     gbm = xgb.train(params, dtrain, ntrees,  evals=watchlist,early_stopping_rounds=100, verbose_eval=100)\n",
    "    xgb.cv(params,dtrain, num_boost_round=1600,nfold=10,early_stopping_rounds=100,verbose_eval=100)"
   ]
  },
  {
   "cell_type": "code",
   "execution_count": 74,
   "metadata": {
    "collapsed": true
   },
   "outputs": [],
   "source": [
    "## #################### # # ######################################"
   ]
  },
  {
   "cell_type": "code",
   "execution_count": null,
   "metadata": {
    "collapsed": false,
    "deletable": true,
    "editable": true
   },
   "outputs": [],
   "source": [
    "# 重复划分10次，取平均\n",
    "ERROR_LIST=[]\n",
    "for x in range(10):\n",
    "    ############Split Train DATA and Test Data############################################################\n",
    "    from sklearn import cross_validation\n",
    "    X_train_m, X_test_m,y_train_m, y_test_m = cross_validation.train_test_split(X,Y, test_size=0.008)\n",
    "    ############Split Train DATA and Test Data############################################################\n",
    "\n",
    "    X =  X_train_m[TIME_COL]\n",
    "    Y = y_train_m\n",
    "    Xtest = X_test_m[TIME_COL]\n",
    "\n",
    "    error_list = []\n",
    "    Ytrain_all = pd.DataFrame()\n",
    "    XGBR = xgb.XGBRegressor(max_depth = 3,learning_rate=0.1,n_estimators=500,reg_alpha=0,reg_lambda=1)\n",
    "    for ind in range(6):\n",
    "        time1 = time.time()\n",
    "        XGBR.fit(X.values,Y.values[:,ind] )\n",
    "        y_true = Y.values[:,ind]\n",
    "        y_pred = XGBR.predict(X.values)   \n",
    "        time2 = time.time()  \n",
    "#         print(str(ind)+ '_error:' + str(abs_MAPE_error(y_pred,y_true  ) ) + '__time:'+ str(time2 - time1) )\n",
    "        error_list.append(abs_MAPE_error(y_pred, y_true  ))\n",
    "\n",
    "        Ytrain =  XGBR.predict(X.values)\n",
    "        Ytrain_df = pd.DataFrame(Ytrain)\n",
    "        Ytrain_all = pd.concat((Ytrain_all,Ytrain_df),axis = 1)   \n",
    "#     print(np.mean(error_list))\n",
    "\n",
    "    #%%\n",
    "    Ytrain_true = pd.DataFrame(Y)\n",
    "    Y_error = abs_MAPE_error_element(Ytrain_all.values,Ytrain_true.values  )  \n",
    "    Good_ind =  Y_error.sum(axis=1).argsort()[0:np.int(0.90*len(X))]\n",
    "    #%%\n",
    "    XGBR = xgb.XGBRegressor(max_depth = 5,learning_rate=0.03,n_estimators=1600,reg_alpha=1,reg_lambda=0,min_child_weight=2*20)\n",
    "    Ytest_all = pd.DataFrame()\n",
    "    error_list = []\n",
    "    Ytrain_all = pd.DataFrame()\n",
    "    for ind in range(6):\n",
    "        time1 = time.time()\n",
    "        XGBR.fit(X.values[Good_ind],Y.values[Good_ind,ind])\n",
    "        y_true = Y.values[Good_ind,ind]\n",
    "        y_pred = XGBR.predict(X.values[Good_ind])\n",
    "        time2 = time.time()    \n",
    "#         print(str(ind)+ '_error:' + str(abs_MAPE_error(y_pred,y_true  ) ) + '__time:'+ str(time2 - time1) )\n",
    "        error_list.append(abs_MAPE_error(y_pred, y_true  ))\n",
    "        Ytest = XGBR.predict(Xtest.values)\n",
    "        Ytest_df = pd.DataFrame(Ytest)\n",
    "        Ytest_all = pd.concat((Ytest_all,Ytest_df),axis = 1)    \n",
    "    print(np.mean(error_list))\n",
    "\n",
    "    y_test_m.reset_index(drop=True,inplace=True)\n",
    "    ERROR_LIST.append(abs_MAPE_error(Ytest_all.values,y_test_m.values))\n",
    "    print(\"train_error:\",np.mean(error_list),\" vaild_error:\",abs_MAPE_error(Ytest_all.values,y_test_m.values))\n",
    "print(np.mean(ERROR_LIST))    "
   ]
  },
  {
   "cell_type": "code",
   "execution_count": null,
   "metadata": {
    "collapsed": false
   },
   "outputs": [],
   "source": []
  },
  {
   "cell_type": "code",
   "execution_count": null,
   "metadata": {
    "collapsed": true,
    "deletable": true,
    "editable": true
   },
   "outputs": [],
   "source": [
    "# Gernerate Final Result"
   ]
  },
  {
   "cell_type": "code",
   "execution_count": null,
   "metadata": {
    "collapsed": true,
    "deletable": true,
    "editable": true
   },
   "outputs": [],
   "source": [
    "Xtest = pd.read_csv('C:/Users/Administrator/PycharmProjects/Traffic/Feature/Xtest.csv')\n",
    "Ytest_all.columns = [0,1,2,3,4,5]\n",
    "result = pd.concat([Ytest_all,Xtest],axis=1)\n",
    "result = result.loc[:,[0,1,2,3,4,5,'TOLLGATE_ID','INTERSECTION_ID','TRN_STA','TRN_END']]\n",
    "result['TRN_END'] = result['TRN_STA'].apply(lambda x :\n",
    "str((datetime.datetime.strptime(x,'%Y-%m-%d %H:%M:%S') + datetime.timedelta(hours=2))))"
   ]
  },
  {
   "cell_type": "code",
   "execution_count": null,
   "metadata": {
    "collapsed": false,
    "deletable": true,
    "editable": true
   },
   "outputs": [],
   "source": [
    "result"
   ]
  },
  {
   "cell_type": "code",
   "execution_count": null,
   "metadata": {
    "collapsed": false,
    "deletable": true,
    "editable": true
   },
   "outputs": [],
   "source": [
    "sub_result = pd.DataFrame()\n",
    "for x in range(result.shape[0]):\n",
    "    t = result.loc[x,:]\n",
    "    for y in range(6):\n",
    "        end_time = str(datetime.datetime.strptime(t['TRN_END'],'%Y-%m-%d %H:%M:%S') + datetime.timedelta(minutes=20*(y+1)))\n",
    "        start_time = str((datetime.datetime.strptime(t['TRN_END'],'%Y-%m-%d %H:%M:%S') + datetime.timedelta(minutes=20*y)))\n",
    "        timewindow = '['+start_time+','+end_time+')'\n",
    "        each_result = pd.DataFrame({'intersection_id':[t['INTERSECTION_ID']],'tollgate_id':[t['TOLLGATE_ID']]\n",
    "        ,'time_window':[timewindow] ,'avg_travel_time':[t[y]]})  \n",
    "        sub_result = pd.concat((sub_result,each_result),axis=0)"
   ]
  },
  {
   "cell_type": "code",
   "execution_count": null,
   "metadata": {
    "collapsed": false,
    "deletable": true,
    "editable": true
   },
   "outputs": [],
   "source": [
    "sub_result"
   ]
  },
  {
   "cell_type": "code",
   "execution_count": null,
   "metadata": {
    "collapsed": true,
    "deletable": true,
    "editable": true
   },
   "outputs": [],
   "source": [
    "cols = ['intersection_id','tollgate_id','time_window','avg_travel_time']\n",
    "sub_result = sub_result.ix[:, cols]"
   ]
  },
  {
   "cell_type": "code",
   "execution_count": null,
   "metadata": {
    "collapsed": false,
    "deletable": true,
    "editable": true
   },
   "outputs": [],
   "source": [
    "sub_result.to_csv('XGBOOST1.csv',index=False,)"
   ]
  },
  {
   "cell_type": "code",
   "execution_count": null,
   "metadata": {
    "collapsed": true,
    "deletable": true,
    "editable": true
   },
   "outputs": [],
   "source": []
  }
 ],
 "metadata": {
  "kernelspec": {
   "display_name": "Python 3",
   "language": "python",
   "name": "python3"
  },
  "language_info": {
   "codemirror_mode": {
    "name": "ipython",
    "version": 3
   },
   "file_extension": ".py",
   "mimetype": "text/x-python",
   "name": "python",
   "nbconvert_exporter": "python",
   "pygments_lexer": "ipython3",
   "version": "3.5.3"
  }
 },
 "nbformat": 4,
 "nbformat_minor": 0
}
